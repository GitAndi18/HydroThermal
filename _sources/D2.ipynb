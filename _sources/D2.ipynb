{
 "cells": [
  {
   "cell_type": "markdown",
   "id": "e4b4b141-d78d-4296-a966-14b0f40befbc",
   "metadata": {},
   "source": [
    "# New Book"
   ]
  },
  {
   "cell_type": "markdown",
   "id": "f34d6145-10a7-4bf7-a5df-17864fdd5e3f",
   "metadata": {},
   "source": [
    "jetzt soll das weitere getestet werden..."
   ]
  },
  {
   "cell_type": "code",
   "execution_count": null,
   "id": "25cfda4a-63a0-40c7-adae-1e814366d85f",
   "metadata": {},
   "outputs": [],
   "source": []
  }
 ],
 "metadata": {
  "kernelspec": {
   "display_name": "Python 3 (ipykernel)",
   "language": "python",
   "name": "python3"
  },
  "language_info": {
   "codemirror_mode": {
    "name": "ipython",
    "version": 3
   },
   "file_extension": ".py",
   "mimetype": "text/x-python",
   "name": "python",
   "nbconvert_exporter": "python",
   "pygments_lexer": "ipython3",
   "version": "3.11.7"
  }
 },
 "nbformat": 4,
 "nbformat_minor": 5
}
