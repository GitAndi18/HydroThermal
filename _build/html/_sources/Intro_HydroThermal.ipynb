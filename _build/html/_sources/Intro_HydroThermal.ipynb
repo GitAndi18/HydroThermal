{
 "cells": [
  {
   "cell_type": "markdown",
   "metadata": {},
   "source": [
    "# Dynamic Heat Transport"
   ]
  },
  {
   "cell_type": "markdown",
   "metadata": {},
   "source": [
    "The aim of this lecture is to familiarise students with the physics of dynamic heat and moisture transport.\n",
    "\n",
    "## Motivation\n",
    "\n",
    "If the thermal dynamic behaviour of buildings is understood, the heating and cooling energy requirements as well as the thermal comfort can be predicted. This allows measures to be taken at the planning stage to fulfil user requirements - the most effective way to plan sustainable buildings.\n",
    "\n",
    "## Skills to be acquired\n",
    "\n",
    "Calculation of\n",
    "\n",
    "- Penetration of heat waves into the subsurface (semi-infinite space)\n",
    "\n",
    "- Penetration of heat into walls\n",
    "\n",
    "- Heat radiation exchange in rooms\n",
    "\n",
    "- Temperature fluctuations in rooms\n",
    "\n",
    "- Thermal comfort\n",
    "\n",
    "- moisture in building materials\n",
    "\n",
    "- dynamic moisture transport"
   ]
  },
  {
   "cell_type": "markdown",
   "metadata": {},
   "source": []
  }
 ],
 "metadata": {
  "kernelspec": {
   "display_name": "Python 3 (ipykernel)",
   "language": "python",
   "name": "python3"
  },
  "language_info": {
   "codemirror_mode": {
    "name": "ipython",
    "version": 3
   },
   "file_extension": ".py",
   "mimetype": "text/x-python",
   "name": "python",
   "nbconvert_exporter": "python",
   "pygments_lexer": "ipython3",
   "version": "3.11.7"
  },
  "widgets": {
   "application/vnd.jupyter.widget-state+json": {
    "state": {},
    "version_major": 2,
    "version_minor": 0
   }
  }
 },
 "nbformat": 4,
 "nbformat_minor": 4
}
