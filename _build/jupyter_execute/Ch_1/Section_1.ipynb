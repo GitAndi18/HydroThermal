{
 "cells": [
  {
   "cell_type": "markdown",
   "id": "b5bb9419-b1ac-4702-ae2a-ad5831734b63",
   "metadata": {},
   "source": [
    "# Section_1"
   ]
  },
  {
   "cell_type": "markdown",
   "id": "3742379d",
   "metadata": {},
   "source": [
    "```{image} Fluss2.jpg\n",
    ":alt: fish\n",
    ":class: bg-primary mb-1\n",
    ":width: 400px\n",
    ":align: center\n",
    "```"
   ]
  }
 ],
 "metadata": {
  "kernelspec": {
   "display_name": "Python 3 (ipykernel)",
   "language": "python",
   "name": "python3"
  },
  "language_info": {
   "codemirror_mode": {
    "name": "ipython",
    "version": 3
   },
   "file_extension": ".py",
   "mimetype": "text/x-python",
   "name": "python",
   "nbconvert_exporter": "python",
   "pygments_lexer": "ipython3",
   "version": "3.7.1"
  }
 },
 "nbformat": 4,
 "nbformat_minor": 5
}